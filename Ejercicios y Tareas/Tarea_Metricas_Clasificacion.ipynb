{
  "nbformat": 4,
  "nbformat_minor": 0,
  "metadata": {
    "colab": {
      "provenance": [],
      "authorship_tag": "ABX9TyNE44uYNSOX92sTGbzV00GM",
      "include_colab_link": true
    },
    "kernelspec": {
      "name": "python3",
      "display_name": "Python 3"
    },
    "language_info": {
      "name": "python"
    }
  },
  "cells": [
    {
      "cell_type": "markdown",
      "metadata": {
        "id": "view-in-github",
        "colab_type": "text"
      },
      "source": [
        "<a href=\"https://colab.research.google.com/github/mflagosv25/Talento-Tech/blob/main/Ejercicios%20y%20Tareas/Tarea_Metricas_Clasificacion.ipynb\" target=\"_parent\"><img src=\"https://colab.research.google.com/assets/colab-badge.svg\" alt=\"Open In Colab\"/></a>"
      ]
    },
    {
      "cell_type": "code",
      "source": [
        "import pandas as pd\n",
        "import numpy as np\n",
        "from sklearn.metrics import classification_report"
      ],
      "metadata": {
        "id": "E7-TuvZAlJc6"
      },
      "execution_count": null,
      "outputs": []
    },
    {
      "cell_type": "code",
      "execution_count": null,
      "metadata": {
        "id": "w6k2wUkch0xt",
        "colab": {
          "base_uri": "https://localhost:8080/"
        },
        "outputId": "3b96ac12-584d-4f3d-d11a-a8aac28d1f37"
      },
      "outputs": [
        {
          "output_type": "stream",
          "name": "stdout",
          "text": [
            "Matriz de confución:\n",
            " [[35  3]\n",
            " [ 2 56]]\n",
            "              precision    recall  f1-score   support\n",
            "\n",
            "           0       0.95      0.92      0.93        38\n",
            "           1       0.95      0.97      0.96        58\n",
            "\n",
            "    accuracy                           0.95        96\n",
            "   macro avg       0.95      0.94      0.95        96\n",
            "weighted avg       0.95      0.95      0.95        96\n",
            "\n"
          ]
        }
      ],
      "source": [
        "#Matriz de confusión de 2X2\n",
        "mc = np.array([[35,3],[2,56]])\n",
        "print('Matriz de confución:\\n',mc)\n",
        "# Genera el informe de clasificación\n",
        "y_true = []\n",
        "y_pred = []\n",
        "for i in range(mc.shape[0]):\n",
        "  for j in range(mc.shape[1]):\n",
        "    for k in range(mc[i, j]):\n",
        "      y_true.append(i)\n",
        "      y_pred.append(j)\n",
        "report = classification_report(y_true, y_pred)\n",
        "# Imprime el informe\n",
        "print(report)"
      ]
    },
    {
      "cell_type": "code",
      "source": [
        "#Cálculo de métricas a partir de la matriz de confución\n",
        "vn= mc[0,0]\n",
        "fp = mc[0,1]\n",
        "fn = mc[1,0]\n",
        "vp = mc[1,1]\n",
        "#Precisión = Verdaderos Positivos / (Verdaderos Positivos + Falsos Positivos)\n",
        "precision = vp/(vp+fp)\n",
        "#Exactitud = (Verdaderos Positivos + Verdaderos Negativos) / Total\n",
        "accuracy = (vp+vn)/(vn+fp+fn+vp)\n",
        "#Sensibilidad(Recall) = Verdaderos Positivos / (Verdaderos Positivos + Falsos Negativos)\n",
        "recall = vp/(vp+fn)\n",
        "#Recuperación = Verdaderos Positivos / (Verdaderos Positivos + Falsos Negativos)\n",
        "recovery = vp/(vp+fn)\n",
        "#F1-score = 2 * (Precisión * Recuperación) / (Precisión + Recuperación)\n",
        "f1_score = 2*(precision*recovery)/(precision+recovery)\n",
        "print('precision: ',precision.round(2))\n",
        "print('recall: ',recall.round(2))\n",
        "print('f1-score: ',f1_score.round(2))\n",
        "print('accuracy: ',accuracy.round(2))\n"
      ],
      "metadata": {
        "id": "pQNdBk3AlItO",
        "colab": {
          "base_uri": "https://localhost:8080/"
        },
        "outputId": "81901091-7b3f-405d-f65c-935c53a3b9f2"
      },
      "execution_count": null,
      "outputs": [
        {
          "output_type": "stream",
          "name": "stdout",
          "text": [
            "precision:  0.95\n",
            "recall:  0.97\n",
            "f1-score:  0.96\n",
            "accuracy:  0.95\n"
          ]
        }
      ]
    },
    {
      "cell_type": "markdown",
      "source": [
        "              precision    recall  f1-score   support\n",
        "\n",
        "           0       0.95      0.92      0.93        38\n",
        "           1       0.95      0.97      0.96        58\n",
        "\n",
        "    accuracy                           0.95        96\n",
        "   macro avg       0.95      0.94      0.95        96\n",
        "weighted avg       0.95      0.95      0.95        96\n"
      ],
      "metadata": {
        "id": "HLQAUKR_ufAs"
      }
    }
  ]
}