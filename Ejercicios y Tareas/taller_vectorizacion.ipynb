{
  "nbformat": 4,
  "nbformat_minor": 0,
  "metadata": {
    "colab": {
      "provenance": [],
      "authorship_tag": "ABX9TyO1WCs2wDPd/r2dAL3+6XKv",
      "include_colab_link": true
    },
    "kernelspec": {
      "name": "python3",
      "display_name": "Python 3"
    },
    "language_info": {
      "name": "python"
    }
  },
  "cells": [
    {
      "cell_type": "markdown",
      "metadata": {
        "id": "view-in-github",
        "colab_type": "text"
      },
      "source": [
        "<a href=\"https://colab.research.google.com/github/mflagosv25/Talento-Tech/blob/main/Ejercicios%20y%20Tareas/taller_vectorizacion.ipynb\" target=\"_parent\"><img src=\"https://colab.research.google.com/assets/colab-badge.svg\" alt=\"Open In Colab\"/></a>"
      ]
    },
    {
      "cell_type": "markdown",
      "source": [
        "## Uso de TfidfVectorizer\n",
        "Textos de Ejemplo:\n",
        "\"El perro mordió al gato\"\n",
        "\"El gato mordió el ratón\"\n",
        "\"Al ratón le gusta el queso del gato\"\n",
        "\n",
        "1- Eliminar palabras irrelevantes\n",
        "\n",
        "2- Eliminar caracteres especiales (tildes)\n",
        "\n",
        "3- creamos la matriz disersa: en la cual se realiza el conteo de frecuencia de palabras.\n",
        "\n",
        "El encabezado contiene las palabras unicas\n",
        "\n",
        "|  | gato (0)| gusta (1)| mordio (2)| perro (3)| queso (4)| raton (5)|\n",
        "|---|---|---|---|---|---|---|\n",
        "| 0 | 1 | 0 | 1 | 1 | 0 | 0 |\n",
        "| 1 | 1 | 0 | 1 | 0 | 0 | 1 |\n",
        "| 2 | 1 | 1 | 0 | 0 | 1 | 1 |\n",
        "\n",
        "4- La cantidad de ceros será muy grande. El cero ocupa espacio en la memoria. Para hacerlo mas óptimo, solo se tienen en cuenta los valores diferentes de cero en el vector. Para el ejemplo, almacenamos los 1 en 3 vectores, señalando su ubucación en la matriz dispersa:\n",
        "\n",
        "| i | j | v |\n",
        "|---|---|---|\n",
        "| 0 | 0 | 1 |\n",
        "| 0 | 2 | 1 |\n",
        "| 0 | 3 | 1 |\n",
        "| 1 | 0 | 1 |\n",
        "| 1 | 2 | 1 |\n",
        "| 1 | 5 | 1 |\n",
        "| 2 | 0 | 1 |\n",
        "| 2 | 1 | 1 |\n",
        "| . | . | . |"
      ],
      "metadata": {
        "id": "w365EFF-Z8PJ"
      }
    },
    {
      "cell_type": "code",
      "execution_count": null,
      "metadata": {
        "id": "pQ_-ZrtCI86v",
        "colab": {
          "base_uri": "https://localhost:8080/"
        },
        "outputId": "a43dca4a-78d6-4ecc-c266-a3086ecc8fe1"
      },
      "outputs": [
        {
          "output_type": "stream",
          "name": "stdout",
          "text": [
            "--- palabras ---\n",
            "['gato' 'gusta' 'mordio' 'perro' 'queso' 'raton']\n",
            "--- vector de cantidades ---\n",
            "  (0, 3)\t2\n",
            "  (0, 2)\t1\n",
            "  (0, 0)\t1\n",
            "  (1, 2)\t1\n",
            "  (1, 0)\t1\n",
            "  (1, 5)\t1\n",
            "  (2, 0)\t1\n",
            "  (2, 5)\t1\n",
            "  (2, 1)\t1\n",
            "  (2, 4)\t1\n",
            "--- vector de valores ---\n",
            "  (0, 0)\t0.2660749625405929\n",
            "  (0, 2)\t0.3426199591918006\n",
            "  (0, 3)\t0.901008145286396\n",
            "  (1, 5)\t0.6198053799406072\n",
            "  (1, 0)\t0.48133416873660545\n",
            "  (1, 2)\t0.6198053799406072\n",
            "  (2, 4)\t0.5844829010200651\n",
            "  (2, 1)\t0.5844829010200651\n",
            "  (2, 5)\t0.444514311537431\n",
            "  (2, 0)\t0.34520501686496574\n"
          ]
        }
      ],
      "source": [
        "texto1 = \"perro mordio gato perro\"\n",
        "texto2 = \"gato mordio raton\"\n",
        "texto3 = \"raton gusta queso gato\"\n",
        "\n",
        "import pandas as pd\n",
        "from sklearn.feature_extraction.text import TfidfVectorizer\n",
        "from sklearn.feature_extraction.text import CountVectorizer\n",
        "\n",
        "df = pd.DataFrame({'descripcion':[texto1,texto2,texto3]})\n",
        "\n",
        "#Instanciamos los métodos\n",
        "contador = CountVectorizer()\n",
        "vectorizador = TfidfVectorizer(max_features = 10)\n",
        "# Creación de la matriz dispersa\n",
        "cantidades = contador.fit_transform(df['descripcion'])\n",
        "valores = vectorizador.fit_transform(df['descripcion']) # Esta es la que se usa como entrada al modelo\n",
        "print(\"--- palabras ---\")\n",
        "print(vectorizador.get_feature_names_out())\n",
        "print(\"--- vector de cantidades ---\")\n",
        "print(cantidades)\n",
        "print(\"--- vector de valores ---\")\n",
        "print(valores)"
      ]
    },
    {
      "cell_type": "code",
      "source": [
        "#Otro ejemplo\n",
        "import pandas as pd\n",
        "from sklearn.feature_extraction.text import TfidfVectorizer\n",
        "\n",
        "# Crea un dataframe de ejemplo.\n",
        "df = pd.DataFrame({'texto': ['Esto es una frase', 'Esto es otra frase', 'Esta es una tercera frase']})\n",
        "\n",
        "# Crea un objeto TfidfVectorizer.\n",
        "vectorizador = TfidfVectorizer()\n",
        "\n",
        "# Ajusta el vectorizador a la columna de texto.\n",
        "vectorizador.fit(df['texto'])\n",
        "\n",
        "# Transforma la columna de texto en una matriz de vectores.\n",
        "vectores = vectorizador.transform(df['texto'])\n",
        "\n",
        "# Imprime los vectores.\n",
        "print(vectores.toarray())"
      ],
      "metadata": {
        "colab": {
          "base_uri": "https://localhost:8080/"
        },
        "id": "rdyLGhqwL-iC",
        "outputId": "c4b1ff47-1fbe-4669-9f0f-18190b22f5ed"
      },
      "execution_count": null,
      "outputs": [
        {
          "output_type": "stream",
          "name": "stdout",
          "text": [
            "[[0.43370786 0.         0.55847784 0.43370786 0.         0.\n",
            "  0.55847784]\n",
            " [0.39148397 0.         0.50410689 0.39148397 0.66283998 0.\n",
            "  0.        ]\n",
            " [0.32630952 0.55249005 0.         0.32630952 0.         0.55249005\n",
            "  0.42018292]]\n"
          ]
        }
      ]
    },
    {
      "cell_type": "code",
      "source": [
        "7813*0.25"
      ],
      "metadata": {
        "colab": {
          "base_uri": "https://localhost:8080/"
        },
        "id": "2QrxK96UkOmK",
        "outputId": "a947658d-c659-43a4-bb06-7fd017600738"
      },
      "execution_count": null,
      "outputs": [
        {
          "output_type": "execute_result",
          "data": {
            "text/plain": [
              "1953.25"
            ]
          },
          "metadata": {},
          "execution_count": 1
        }
      ]
    },
    {
      "cell_type": "code",
      "source": [
        "78114*0.0018"
      ],
      "metadata": {
        "colab": {
          "base_uri": "https://localhost:8080/"
        },
        "id": "khTVYS30kQjN",
        "outputId": "d86bf5c2-47d2-48a8-cd1f-cbdab430a1a9"
      },
      "execution_count": null,
      "outputs": [
        {
          "output_type": "execute_result",
          "data": {
            "text/plain": [
              "140.6052"
            ]
          },
          "metadata": {},
          "execution_count": 1
        }
      ]
    }
  ]
}