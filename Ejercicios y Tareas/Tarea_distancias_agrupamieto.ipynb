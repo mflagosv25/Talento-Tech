{
  "nbformat": 4,
  "nbformat_minor": 0,
  "metadata": {
    "colab": {
      "provenance": [],
      "authorship_tag": "ABX9TyMovc2OstMGCfAXIwZ3EMM8",
      "include_colab_link": true
    },
    "kernelspec": {
      "name": "python3",
      "display_name": "Python 3"
    },
    "language_info": {
      "name": "python"
    }
  },
  "cells": [
    {
      "cell_type": "markdown",
      "metadata": {
        "id": "view-in-github",
        "colab_type": "text"
      },
      "source": [
        "<a href=\"https://colab.research.google.com/github/mflagosv25/Talento-Tech/blob/main/Ejercicios%20y%20Tareas/Tarea_distancias_agrupamieto.ipynb\" target=\"_parent\"><img src=\"https://colab.research.google.com/assets/colab-badge.svg\" alt=\"Open In Colab\"/></a>"
      ]
    },
    {
      "cell_type": "code",
      "execution_count": null,
      "metadata": {
        "id": "bCD5mHAUokct"
      },
      "outputs": [],
      "source": [
        "import pandas as pd\n"
      ]
    },
    {
      "cell_type": "code",
      "source": [
        "df = pd.read_csv('iris.data', header=None)\n",
        "df.columns = ['largo_sepalo', 'ancho_sepalo', 'largo_petalo', 'ancho_petalo', 'clase']\n",
        "\n",
        "print(df.info())\n",
        "print(\"\\nData Frame: \\n\",df.head())\n",
        "print(\"\\nDescripción, Clases: \\n\", df['clase'].describe())\n",
        "\n"
      ],
      "metadata": {
        "colab": {
          "base_uri": "https://localhost:8080/"
        },
        "id": "D45-EJojqfvO",
        "outputId": "f55e514d-c2b2-4af9-83a4-ab72ae68c5f9"
      },
      "execution_count": null,
      "outputs": [
        {
          "output_type": "stream",
          "name": "stdout",
          "text": [
            "<class 'pandas.core.frame.DataFrame'>\n",
            "RangeIndex: 150 entries, 0 to 149\n",
            "Data columns (total 5 columns):\n",
            " #   Column        Non-Null Count  Dtype  \n",
            "---  ------        --------------  -----  \n",
            " 0   largo_sepalo  150 non-null    float64\n",
            " 1   ancho_sepalo  150 non-null    float64\n",
            " 2   largo_petalo  150 non-null    float64\n",
            " 3   ancho_petalo  150 non-null    float64\n",
            " 4   clase         150 non-null    object \n",
            "dtypes: float64(4), object(1)\n",
            "memory usage: 6.0+ KB\n",
            "None\n",
            "\n",
            "Data Frame: \n",
            "    largo_sepalo  ancho_sepalo  largo_petalo  ancho_petalo        clase\n",
            "0           5.1           3.5           1.4           0.2  Iris-setosa\n",
            "1           4.9           3.0           1.4           0.2  Iris-setosa\n",
            "2           4.7           3.2           1.3           0.2  Iris-setosa\n",
            "3           4.6           3.1           1.5           0.2  Iris-setosa\n",
            "4           5.0           3.6           1.4           0.2  Iris-setosa\n",
            "\n",
            "Descripción, Clases: \n",
            " count             150\n",
            "unique              3\n",
            "top       Iris-setosa\n",
            "freq               50\n",
            "Name: clase, dtype: object\n"
          ]
        }
      ]
    },
    {
      "cell_type": "code",
      "source": [
        "l_clases = list(df['clase'].unique())\n",
        "d_promedios = {}\n",
        "for categoria in l_clases:\n",
        "  df_clase = df[df['clase']==str(categoria)]\n",
        "  promedio_sepalo = (df_clase['largo_sepalo'].mean() + df_clase['ancho_sepalo'].mean())/2\n",
        "  promedio_petalo = (df_clase['largo_petalo'].mean() + df_clase['ancho_petalo'].mean())/2\n",
        "  dimensiones = (promedio_sepalo, promedio_petalo)\n",
        "  d_promedios[str(categoria)] = dimensiones\n",
        "\n",
        "d_promedios"
      ],
      "metadata": {
        "colab": {
          "base_uri": "https://localhost:8080/"
        },
        "id": "Vob-jQ4UsBsM",
        "outputId": "094da772-fe9f-4c47-b175-478c77fea83d"
      },
      "execution_count": null,
      "outputs": [
        {
          "output_type": "execute_result",
          "data": {
            "text/plain": [
              "{'Iris-setosa': (4.212, 0.854),\n",
              " 'Iris-versicolor': (4.353, 2.7929999999999997),\n",
              " 'Iris-virginica': (4.780999999999999, 3.7890000000000006)}"
            ]
          },
          "metadata": {},
          "execution_count": 41
        }
      ]
    },
    {
      "cell_type": "code",
      "source": [
        "# Funciones para calcular distancias\n",
        "import math\n",
        "def calcular_euclid(p1,p2):\n",
        "  d = math.sqrt((p2[0]-p1[0])**2+(p2[1]-p1[1])**2)\n",
        "  return d\n",
        "\n",
        "def calcular_manh(p1,p2):\n",
        "  d = abs(p2[0]-p1[0])+abs(p2[1]-p1[1])\n",
        "  return d"
      ],
      "metadata": {
        "id": "etTkgPXJvBOY"
      },
      "execution_count": null,
      "outputs": []
    },
    {
      "cell_type": "code",
      "source": [
        "#Calculo de distancias de Manhattan\n",
        "\n",
        "# 1 - Iris-setosa vs  Iris-versicolor\n",
        "distancia = calcular_manh(d_promedios['Iris-setosa'], d_promedios['Iris-versicolor'])\n",
        "print(f\"Distancia Manhattan entre Iris-setosa e Iris-versicolor: {distancia}\")\n",
        "# 2 - Iris-setosa vs  Iris-virginica\n",
        "distancia = calcular_manh(d_promedios['Iris-setosa'], d_promedios['Iris-virginica'])\n",
        "print(f\"Distancia Manhattan entre Iris-setosa e Iris-virginica: {distancia}\")\n",
        "# 3 - Iris-versicolor vs  Iris-virginica\n",
        "distancia = calcular_manh(d_promedios['Iris-versicolor'], d_promedios['Iris-virginica'])\n",
        "print(f\"Distancia Manhattan entre Iris-versicolor e Iris-virginica: {distancia}\")"
      ],
      "metadata": {
        "colab": {
          "base_uri": "https://localhost:8080/"
        },
        "id": "CwmcWWEM2r3f",
        "outputId": "566d8c62-cfc4-4721-8d3b-d60cac731f3f"
      },
      "execution_count": null,
      "outputs": [
        {
          "output_type": "stream",
          "name": "stdout",
          "text": [
            "Distancia Manhattan entre Iris-setosa e Iris-versicolor: 2.0799999999999996\n",
            "Distancia Manhattan entre Iris-setosa e Iris-virginica: 3.5039999999999996\n",
            "Distancia Manhattan entre Iris-versicolor e Iris-virginica: 1.424\n"
          ]
        }
      ]
    },
    {
      "cell_type": "code",
      "source": [
        "#Calculo de distancias Euclidiana\n",
        "\n",
        "# 1 - Iris-setosa vs  Iris-versicolor\n",
        "distancia = calcular_euclid(d_promedios['Iris-setosa'], d_promedios['Iris-versicolor'])\n",
        "print(f\"Distancia Euclidiana entre Iris-setosa e Iris-versicolor: {distancia}\")\n",
        "# 2 - Iris-setosa vs  Iris-virginica\n",
        "distancia = calcular_euclid(d_promedios['Iris-setosa'], d_promedios['Iris-virginica'])\n",
        "print(f\"Distancia Euclidiana entre Iris-setosa e Iris-virginica: {distancia}\")\n",
        "# 3 - Iris-versicolor vs  Iris-virginica\n",
        "distancia = calcular_euclid(d_promedios['Iris-versicolor'], d_promedios['Iris-virginica'])\n",
        "print(f\"Distancia Euclidiana entre Iris-versicolor e Iris-virginica: {distancia}\")"
      ],
      "metadata": {
        "colab": {
          "base_uri": "https://localhost:8080/"
        },
        "id": "6I4J-iyM6DDh",
        "outputId": "0c4ccc2b-d3d8-4512-f1ee-795479018b87"
      },
      "execution_count": null,
      "outputs": [
        {
          "output_type": "stream",
          "name": "stdout",
          "text": [
            "Distancia Euclidiana entre Iris-setosa e Iris-versicolor: 1.9441198522724874\n",
            "Distancia Euclidiana entre Iris-setosa e Iris-virginica: 2.9896464673937624\n",
            "Distancia Euclidiana entre Iris-versicolor e Iris-virginica: 1.0840664186294127\n"
          ]
        }
      ]
    }
  ]
}