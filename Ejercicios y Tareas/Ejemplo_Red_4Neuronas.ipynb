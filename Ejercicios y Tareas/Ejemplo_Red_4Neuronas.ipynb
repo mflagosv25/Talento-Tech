{
  "nbformat": 4,
  "nbformat_minor": 0,
  "metadata": {
    "colab": {
      "provenance": [],
      "authorship_tag": "ABX9TyNlvFEWfPIrqpZyLPCFy47u",
      "include_colab_link": true
    },
    "kernelspec": {
      "name": "python3",
      "display_name": "Python 3"
    },
    "language_info": {
      "name": "python"
    }
  },
  "cells": [
    {
      "cell_type": "markdown",
      "metadata": {
        "id": "view-in-github",
        "colab_type": "text"
      },
      "source": [
        "<a href=\"https://colab.research.google.com/github/mflagosv25/Talento-Tech/blob/main/Ejercicios%20y%20Tareas/Ejemplo_Red_4Neuronas.ipynb\" target=\"_parent\"><img src=\"https://colab.research.google.com/assets/colab-badge.svg\" alt=\"Open In Colab\"/></a>"
      ]
    },
    {
      "cell_type": "code",
      "execution_count": null,
      "metadata": {
        "id": "CI34A0QmL0nm"
      },
      "outputs": [],
      "source": [
        "import numpy as np"
      ]
    },
    {
      "cell_type": "code",
      "source": [
        "# Given values for the 4-neuron network\n",
        "\n",
        "weights = np.array(\n",
        "    [\n",
        "        [1, -1, 1], # Neuron 1 weights\n",
        "        [1, 1, 0], # Neuron  weights\n",
        "        [0, 1, 1], # Neuron 3 weights\n",
        "        [1, 0, 1], # Neuron 4 weights\n",
        "    ]\n",
        ")\n",
        "biases = np.array([-5, 0, 1, -2])\n",
        "inputs = np.array([2, 1, 3])\n",
        "\n",
        "def relu(x):\n",
        "  return np.maximum(0, x)"
      ],
      "metadata": {
        "id": "LJJWj56KL9NE"
      },
      "execution_count": null,
      "outputs": []
    },
    {
      "cell_type": "code",
      "source": [
        "y = np.dot(weights, inputs) + biases\n",
        "print(f\"y: {y}\")\n",
        "print(f\"ReLU(y): {relu(y)}\")"
      ],
      "metadata": {
        "colab": {
          "base_uri": "https://localhost:8080/"
        },
        "id": "tYlxBllhOBy6",
        "outputId": "c78b82ac-af44-4a31-fcab-7a3199bd4b85"
      },
      "execution_count": null,
      "outputs": [
        {
          "output_type": "stream",
          "name": "stdout",
          "text": [
            "y: [-1  3  5  3]\n",
            "ReLU(y): [0 3 5 3]\n"
          ]
        }
      ]
    }
  ]
}